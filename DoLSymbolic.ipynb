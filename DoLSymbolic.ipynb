{
  "nbformat": 4,
  "nbformat_minor": 0,
  "metadata": {
    "colab": {
      "provenance": [],
      "authorship_tag": "ABX9TyPOl1WaPAmztbsf8hzg7L70",
      "include_colab_link": true
    },
    "kernelspec": {
      "name": "python3",
      "display_name": "Python 3"
    },
    "language_info": {
      "name": "python"
    }
  },
  "cells": [
    {
      "cell_type": "markdown",
      "metadata": {
        "id": "view-in-github",
        "colab_type": "text"
      },
      "source": [
        "<a href=\"https://colab.research.google.com/github/G-Shillcock/G-Shillcock.github.io/blob/master/DoLSymbolic.ipynb\" target=\"_parent\"><img src=\"https://colab.research.google.com/assets/colab-badge.svg\" alt=\"Open In Colab\"/></a>"
      ]
    },
    {
      "cell_type": "code",
      "source": [
        "import sympy as sp\n",
        "from sympy import print_latex\n",
        "\n",
        "t, t1, t2, a, b, l, n = sp.symbols('t, t_1, t_2, a, b, \\lambda, n')\n",
        "\n",
        "W = (1-l)*(t1**a*(1-t1)**b + t2**a*(1-t2)**b) + l*(t1**a*(1-t2)**b + t2**a*(1-t1)**b)\n",
        "display(W)\n",
        "\n",
        "# Fitness is defined as:"
      ],
      "metadata": {
        "colab": {
          "base_uri": "https://localhost:8080/",
          "height": 47
        },
        "id": "YjP162rAPLBT",
        "outputId": "57b45c2b-2b78-48f4-b94f-17cd6156d63c"
      },
      "execution_count": 7,
      "outputs": [
        {
          "output_type": "display_data",
          "data": {
            "text/plain": [
              "\\lambda*(t_1**a*(1 - t_2)**b + t_2**a*(1 - t_1)**b) + (1 - \\lambda)*(t_1**a*(1 - t_1)**b + t_2**a*(1 - t_2)**b)"
            ],
            "text/latex": "$\\displaystyle \\lambda \\left(t_{1}^{a} \\left(1 - t_{2}\\right)^{b} + t_{2}^{a} \\left(1 - t_{1}\\right)^{b}\\right) + \\left(1 - \\lambda\\right) \\left(t_{1}^{a} \\left(1 - t_{1}\\right)^{b} + t_{2}^{a} \\left(1 - t_{2}\\right)^{b}\\right)$"
          },
          "metadata": {}
        }
      ]
    },
    {
      "cell_type": "code",
      "source": [
        "display(W.diff(l).factor())\n",
        "\n",
        "# Worryingly, fitness increases with lambda"
      ],
      "metadata": {
        "colab": {
          "base_uri": "https://localhost:8080/",
          "height": 47
        },
        "id": "yveTQjI0GdKW",
        "outputId": "98d610d0-a25f-4678-9015-a6a47d1a3a27"
      },
      "execution_count": 12,
      "outputs": [
        {
          "output_type": "display_data",
          "data": {
            "text/plain": [
              "-(t_1**a - t_2**a)*((1 - t_1)**b - (1 - t_2)**b)"
            ],
            "text/latex": "$\\displaystyle - \\left(t_{1}^{a} - t_{2}^{a}\\right) \\left(\\left(1 - t_{1}\\right)^{b} - \\left(1 - t_{2}\\right)^{b}\\right)$"
          },
          "metadata": {}
        }
      ]
    },
    {
      "cell_type": "code",
      "source": [
        "# Undivided ancestral population maximum\n",
        "\n",
        "Wa = W.subs(t2,t1).subs(t1,t).simplify()\n",
        "\n",
        "Wa1 = Wa.diff(t).simplify()\n",
        "\n",
        "soln = sp.solve(Wa1,t)\n",
        "\n",
        "display(soln[0])\n",
        "\n",
        "# Optimal times depend directly on relative task difficulties"
      ],
      "metadata": {
        "colab": {
          "base_uri": "https://localhost:8080/",
          "height": 49
        },
        "id": "v1UDE1zkEuLF",
        "outputId": "50f7251b-cde7-4892-8e65-e3e991d49ab6"
      },
      "execution_count": 27,
      "outputs": [
        {
          "output_type": "display_data",
          "data": {
            "text/plain": [
              "a/(a + b)"
            ],
            "text/latex": "$\\displaystyle \\frac{a}{a + b}$"
          },
          "metadata": {}
        }
      ]
    },
    {
      "cell_type": "code",
      "execution_count": 32,
      "metadata": {
        "colab": {
          "base_uri": "https://localhost:8080/",
          "height": 52
        },
        "id": "s-eVDnxyO_mC",
        "outputId": "640e8535-edc6-4638-b121-09cb5136ddc4"
      },
      "outputs": [
        {
          "output_type": "display_data",
          "data": {
            "text/plain": [
              "(a + b)/(2*a*b)"
            ],
            "text/latex": "$\\displaystyle \\frac{a + b}{2 a b}$"
          },
          "metadata": {}
        }
      ],
      "source": [
        "# When will division of labour be favoured by the ancestor?\n",
        "\n",
        "W11 = W.diff(t1,t1).subs(t2,t1).simplify()\n",
        "\n",
        "off_diag = sp.solve(W11,l)[0]\n",
        "\n",
        "display(off_diag.subs(t1,soln[0]).simplify())\n",
        "\n",
        "# λ which which seperates generalists from specialists:"
      ]
    },
    {
      "cell_type": "code",
      "source": [
        "# Ancestoral population always has zero-gradient in off-diag\n",
        "\n",
        "W1 = W.diff(t1) - W.diff(t2)\n",
        "\n",
        "W1.subs(t2,t1).subs(t1,soln[0]).simplify()\n",
        "\n",
        "# Gradient of ancestral population in off-diagonal direction:"
      ],
      "metadata": {
        "colab": {
          "base_uri": "https://localhost:8080/",
          "height": 37
        },
        "id": "TYZc_JsvJem6",
        "outputId": "ddf4c737-dd6d-4b51-b907-3253f12a27c8"
      },
      "execution_count": 36,
      "outputs": [
        {
          "output_type": "execute_result",
          "data": {
            "text/plain": [
              "0"
            ],
            "text/latex": "$\\displaystyle 0$"
          },
          "metadata": {},
          "execution_count": 36
        }
      ]
    }
  ]
}